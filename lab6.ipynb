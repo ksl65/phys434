{
 "cells": [
  {
   "cell_type": "markdown",
   "metadata": {},
   "source": [
    "Lab 6\n",
    "Kun Lee, partner: Lexie Peterson\n",
    "\n",
    "Setup:"
   ]
  },
  {
   "cell_type": "code",
   "execution_count": 1,
   "metadata": {},
   "outputs": [],
   "source": [
    "#Setup\n",
    "%matplotlib inline\n",
    "import numpy as np\n",
    "import matplotlib\n",
    "import matplotlib.pyplot as plt\n",
    "import scipy\n",
    "import scipy.signal\n",
    "from scipy import stats\n",
    "\n",
    "plt.rcParams[\"figure.figsize\"] = (20,15)\n",
    "\n",
    "d = stats.norm.rvs(loc = 5., scale = 0.01, size = 100000)\n",
    "plt.rcParams[\"figure.figsize\"] = (50,50)"
   ]
  },
  {
   "cell_type": "markdown",
   "metadata": {},
   "source": [
    "Fake background:"
   ]
  },
  {
   "cell_type": "code",
   "execution_count": 29,
   "metadata": {},
   "outputs": [],
   "source": [
    "x = np.linspace(0,999,1000)\n",
    "background = scipy.stats.poisson.pmf(x,100)"
   ]
  },
  {
   "cell_type": "markdown",
   "metadata": {},
   "source": [
    "5 sigma sensitivity threshold:"
   ]
  },
  {
   "cell_type": "code",
   "execution_count": 15,
   "metadata": {},
   "outputs": [
    {
     "data": {
      "text/plain": [
       "2.8665157187919333e-07"
      ]
     },
     "execution_count": 15,
     "metadata": {},
     "output_type": "execute_result"
    }
   ],
   "source": [
    "scipy.stats.norm.sf(5)"
   ]
  },
  {
   "cell_type": "code",
   "execution_count": 11,
   "metadata": {},
   "outputs": [
    {
     "data": {
      "text/plain": [
       "2.857142857142857e-07"
      ]
     },
     "execution_count": 11,
     "metadata": {},
     "output_type": "execute_result"
    }
   ],
   "source": [
    "1/3500000"
   ]
  },
  {
   "cell_type": "code",
   "execution_count": 13,
   "metadata": {},
   "outputs": [
    {
     "data": {
      "text/plain": [
       "154.0"
      ]
     },
     "execution_count": 13,
     "metadata": {},
     "output_type": "execute_result"
    }
   ],
   "source": [
    "scipy.stats.poisson.isf(scipy.stats.norm.sf(5),100)"
   ]
  },
  {
   "cell_type": "code",
   "execution_count": 14,
   "metadata": {},
   "outputs": [
    {
     "data": {
      "text/plain": [
       "2.123903111645013e-07"
      ]
     },
     "execution_count": 14,
     "metadata": {},
     "output_type": "execute_result"
    }
   ],
   "source": [
    "scipy.stats.poisson.sf(154,100)"
   ]
  },
  {
   "cell_type": "markdown",
   "metadata": {},
   "source": [
    "Using the \"1 in 3.5 million\" approach, we find that the 5 sigma sensitivity threshold is 154."
   ]
  },
  {
   "cell_type": "markdown",
   "metadata": {},
   "source": [
    "Now we'll make a bunch of simulated signals. The lab says to make it between 8 - 30 sigma so we'll choose 15 sigmas. "
   ]
  },
  {
   "cell_type": "code",
   "execution_count": 52,
   "metadata": {},
   "outputs": [
    {
     "data": {
      "text/plain": [
       "nan"
      ]
     },
     "execution_count": 52,
     "metadata": {},
     "output_type": "execute_result"
    }
   ],
   "source": [
    "bg = scipy.stats.poisson.rvs(100,size=1000)\n",
    "signal = scipy.stats.poisson.isf(scipy.stats.norm.sf(15),100)\n",
    "#fig, ax = plt.subplots(2,1)\n",
    "#ax[0].hist(background, density=True)\n",
    "#ax[1].hist(bg,density=True)\n",
    "#plt.show()\n",
    "signal"
   ]
  },
  {
   "cell_type": "markdown",
   "metadata": {},
   "source": [
    "Oh no, Python broke. Basically, at 15 sigmas we're getting a really small number from sf (e-51) so I'm guessing isf doesn't like that. Trial and error:"
   ]
  },
  {
   "cell_type": "code",
   "execution_count": 68,
   "metadata": {},
   "outputs": [
    {
     "data": {
      "text/plain": [
       "5.359612604812223e-51"
      ]
     },
     "execution_count": 68,
     "metadata": {},
     "output_type": "execute_result"
    }
   ],
   "source": [
    "scipy.stats.poisson.sf(283,100)"
   ]
  },
  {
   "cell_type": "code",
   "execution_count": 55,
   "metadata": {},
   "outputs": [
    {
     "data": {
      "text/plain": [
       "3.6709661993126986e-51"
      ]
     },
     "execution_count": 55,
     "metadata": {},
     "output_type": "execute_result"
    }
   ],
   "source": [
    "scipy.stats.norm.sf(15)"
   ]
  },
  {
   "cell_type": "markdown",
   "metadata": {},
   "source": [
    "This seems close enough in terms of orders of magnitude. So after receiving some clarification, this is the approach we'll be taking: Populate an array with Poisson random values. In lecture this was done with an array of zeroes + noise + signal, but our mean isn't 0 so we'll use an array of poisson rvs instead. After that, we'll add the signal so some values in the array are 100 (random variable) + 183 = 283, except that we don't get one spike, we get a distribution around the 15 sigma area. The specific values in the array that we choose to have 183 added to them (and how many we pick) are picked randomly following a random normal distribution that has a mean of picking 1 every 20 values."
   ]
  },
  {
   "cell_type": "code",
   "execution_count": 184,
   "metadata": {},
   "outputs": [],
   "source": [
    "signal = 183\n",
    "import math\n",
    "copy = bg.copy()\n",
    "for i in range(1000):\n",
    "    #if i % 20 == math.floor(scipy.stats.norm.rvs(loc=10)):\n",
    "    if i % math.floor(scipy.stats.norm.rvs(loc=20)) == 0:\n",
    "        copy[i] = copy[i] + 183"
   ]
  },
  {
   "cell_type": "code",
   "execution_count": null,
   "metadata": {},
   "outputs": [],
   "source": []
  },
  {
   "cell_type": "markdown",
   "metadata": {},
   "source": []
  },
  {
   "cell_type": "code",
   "execution_count": 185,
   "metadata": {},
   "outputs": [
    {
     "data": {
      "image/png": "[encoded data removed]",
      "text/plain": [
       "<Figure size 432x288 with 2 Axes>"
      ]
     },
     "metadata": {
      "needs_background": "light"
     },
     "output_type": "display_data"
    }
   ],
   "source": [
    "fig, ax = plt.subplots(2,1)\n",
    "ax[0].hist(bg, density=True,)\n",
    "ax[1].hist(copy,density=True)\n",
    "plt.show()"
   ]
  },
  {
   "cell_type": "markdown",
   "metadata": {},
   "source": [
    "Our signal shows up bright and clear."
   ]
  },
  {
   "cell_type": "markdown",
   "metadata": {},
   "source": [
    "More resolution: "
   ]
  },
  {
   "cell_type": "code",
   "execution_count": 187,
   "metadata": {},
   "outputs": [
    {
     "data": {
      "image/png": "[encoded data removed]",
      "text/plain": [
       "<Figure size 432x288 with 1 Axes>"
      ]
     },
     "metadata": {
      "needs_background": "light"
     },
     "output_type": "display_data"
    }
   ],
   "source": [
    "fig, ax = plt.subplots(1,1)\n",
    "ax.hist(copy,density=True,bins=50)\n",
    "ax.axvline(283,color='r')\n",
    "plt.show()"
   ]
  },
  {
   "cell_type": "markdown",
   "metadata": {},
   "source": [
    "In terms of how bright the signal appears to be, it has a peak strength of about 0.005. In terms of shape, it looks like a poisson distribution which is the only logical conclusion because the original distribution was poisson and the signal is formed by adding 183 to some elements of the poisson distribution. In essence, a (random) subset of a poisson distribution is also poisson in nature."
   ]
  },
  {
   "cell_type": "markdown",
   "metadata": {},
   "source": [
    "The signal is symmetric in the sense that there's only 1 peak (283) because we only injected 1 value . In that regard it's also not biased because of that same reasoning (i.e. the observed signal isn't stronger or weaker than the injected signal, it's exactly the same as the injected signal.)"
   ]
  },
  {
   "cell_type": "code",
   "execution_count": 109,
   "metadata": {},
   "outputs": [
    {
     "data": {
      "text/plain": [
       "array([103, 102, 110, ..., 283, 283, 283])"
      ]
     },
     "execution_count": 109,
     "metadata": {},
     "output_type": "execute_result"
    }
   ],
   "source": [
    "copy"
   ]
  },
  {
   "cell_type": "markdown",
   "metadata": {},
   "source": [
    "There our signal is. However, it seems like it's biased on the histogram (the red line is plotted at 283 and the blue bar representing the signal seems to be a little to the left of it (which seems biased and non symmetric) but I think that's just a visual artefact, probably because of how binning is done by Python's histogram function. "
   ]
  },
  {
   "cell_type": "code",
   "execution_count": 116,
   "metadata": {},
   "outputs": [
    {
     "data": {
      "image/png": "[encoded data removed]",
      "text/plain": [
       "<Figure size 432x288 with 2 Axes>"
      ]
     },
     "metadata": {
      "needs_background": "light"
     },
     "output_type": "display_data"
    }
   ],
   "source": [
    "fig, ax = plt.subplots(2,1)\n",
    "ax[0].hist(copy,density=True,bins=10)\n",
    "ax[1].hist(copy,density=True,bins=200)\n",
    "ax[0].axvline(283,color='r')\n",
    "ax[1].axvline(283,color='r')\n",
    "plt.show()"
   ]
  },
  {
   "cell_type": "markdown",
   "metadata": {},
   "source": [
    "For a more persuasive illustration of the previous explanation about binning, here are some plots at different bin sizes. There seems to be an inherent negative bias in the histogram function (my signal at 283 is now left biased towards what looks like 260-283). But that's just the histogram; the data isn't biased."
   ]
  },
  {
   "cell_type": "markdown",
   "metadata": {},
   "source": [
    "Now we make a suite of simulated signals."
   ]
  },
  {
   "cell_type": "code",
   "execution_count": 136,
   "metadata": {},
   "outputs": [
    {
     "data": {
      "text/plain": [
       "4.906713927147908e-198"
      ]
     },
     "execution_count": 136,
     "metadata": {},
     "output_type": "execute_result"
    }
   ],
   "source": [
    "scipy.stats.norm.sf(30)"
   ]
  },
  {
   "cell_type": "code",
   "execution_count": 135,
   "metadata": {},
   "outputs": [
    {
     "data": {
      "text/plain": [
       "3.0507735039998975e-200"
      ]
     },
     "execution_count": 135,
     "metadata": {},
     "output_type": "execute_result"
    }
   ],
   "source": [
    "signal3 = scipy.stats.poisson.sf(530,100)\n",
    "signal3"
   ]
  },
  {
   "cell_type": "markdown",
   "metadata": {},
   "source": [
    "So to get a range of signals from 0 sigmas to 30 sigmas, our values are from 100 to around 530 (adding values from 0 to 430."
   ]
  },
  {
   "cell_type": "code",
   "execution_count": 296,
   "metadata": {},
   "outputs": [
    {
     "data": {
      "text/plain": [
       "196"
      ]
     },
     "execution_count": 296,
     "metadata": {},
     "output_type": "execute_result"
    }
   ],
   "source": [
    "signal = [0,50,100,150,200,250,300,350,400,450]\n",
    "import math\n",
    "copy2 = bg.copy()\n",
    "copy3 = []\n",
    "copy4 = np.zeros(1000)\n",
    "for i in range(1000):\n",
    "    #if i % 20 == math.floor(scipy.stats.norm.rvs(loc=10)):\n",
    "    if i % math.floor(scipy.stats.norm.rvs(loc=20)) == 0:\n",
    "        sig = signal[np.random.randint(0,high=10)]\n",
    "        copy2[i % 999] = copy2[i % 999] + sig\n",
    "        copy3.append(sig)\n",
    "        copy4[i % 999] = copy4[i % 999] + sig\n",
    "        \n",
    "for i in range(1000):\n",
    "    #if i % 20 == math.floor(scipy.stats.norm.rvs(loc=10)):\n",
    "    if i % math.floor(scipy.stats.norm.rvs(loc=20)) == 3:\n",
    "        sig = signal[np.random.randint(0,high=10)]\n",
    "        copy2[i % 999] = copy2[i % 999] + sig\n",
    "        copy3.append(sig)\n",
    "        copy4[i % 999] = copy4[i % 999] + sig\n",
    "    \n",
    "len(copy3)\n",
    "\n",
    "for i in range(1000):\n",
    "    #if i % 20 == math.floor(scipy.stats.norm.rvs(loc=10)):\n",
    "    if i % math.floor(scipy.stats.norm.rvs(loc=20)) == 7:\n",
    "        sig = signal[np.random.randint(0,high=10)]\n",
    "        copy2[i] = copy2[i] + sig\n",
    "        copy3.append(sig)\n",
    "        copy4[i % 999] = copy4[i % 999] + sig\n",
    "    \n",
    "for i in range(1000):\n",
    "    #if i % 20 == math.floor(scipy.stats.norm.rvs(loc=10)):\n",
    "    if i % math.floor(scipy.stats.norm.rvs(loc=20)) == 17:\n",
    "        sig = signal[np.random.randint(0,high=10)]\n",
    "        copy2[i % 999] = copy2[i % 999] + sig\n",
    "        copy3.append(sig)\n",
    "        copy4[i % 999] = copy4[i % 999] + sig\n",
    "len(copy3)"
   ]
  },
  {
   "cell_type": "code",
   "execution_count": 244,
   "metadata": {},
   "outputs": [
    {
     "data": {
      "text/plain": [
       "array([450., 250., 350., 450.,   0., 200., 450.,   0.,   0.,   0.,   0.,\n",
       "         0.,   0.,   0.,   0.,   0., 200.,   0., 150.,   0., 400.,   0.,\n",
       "       250.,   0.,   0.,   0.,   0.,   0.,   0.,   0.,   0.,   0., 450.,\n",
       "         0.,   0.,   0., 250.,   0.,   0.,   0., 300.,   0., 400.,   0.,\n",
       "         0.,   0., 250.,   0.,   0.,   0.,   0., 450.,   0.,   0.,   0.,\n",
       "         0.,   0.,   0.,   0.,   0.,   0.,   0., 200., 200., 300.,  50.,\n",
       "         0.,   0.,   0.,   0.,   0.,   0.,   0.,   0.,   0.,   0.,   0.,\n",
       "         0., 150.,   0., 350., 300.,   0.,   0., 400.,   0.,   0.,   0.,\n",
       "         0., 350., 100.,   0.,   0.,   0.,   0.,   0.,   0.,   0.,   0.,\n",
       "         0.,   0., 300.,   0., 500.,   0.,   0.,   0.,   0.,  50.,   0.,\n",
       "         0., 350.,   0.,   0.,   0.,   0.,   0.,  50.,   0.,   0., 100.,\n",
       "         0., 250.,   0.,   0.,   0., 250.,   0.,   0.,   0.,   0.,   0.,\n",
       "         0.,   0.,   0.,   0.,   0.,   0.,   0.,   0.,   0.,   0., 150.,\n",
       "         0., 500.,   0.,   0., 400.,   0., 350.,   0.,   0.,   0., 100.,\n",
       "         0.,   0.,   0.,   0.,   0.,   0.,   0.,   0., 400.,   0., 400.,\n",
       "         0.,   0.,   0., 150.,   0.,   0., 100.,   0.,   0.,   0.,   0.,\n",
       "         0.,   0., 300.,   0.,  50.,   0., 100., 250.,   0.,   0.,   0.,\n",
       "         0.,   0.,   0., 100.,   0.,   0.,   0.,   0.,   0.,   0.,   0.,\n",
       "         0.,   0.,   0.,   0.,   0., 350., 100.,   0.,   0.,   0.,   0.,\n",
       "         0.,   0.,   0.,   0.,   0.,   0.,   0., 200.,   0.,   0.,   0.,\n",
       "       150., 350.,   0.,   0.,   0.,   0.,   0.,   0.,   0.,   0.,   0.,\n",
       "         0.,   0., 350., 250.,   0.,   0.,   0.,   0.,   0., 450., 400.,\n",
       "       400.,   0.,   0.,   0.,   0.,   0.,   0.,   0.,   0.,   0.,   0.,\n",
       "         0.,   0.,  50.,   0.,   0.,   0.,   0.,   0., 500., 200.,   0.,\n",
       "         0.,   0.,   0.,   0.,   0.,   0.,   0.,   0.,   0.,   0., 150.,\n",
       "         0.,   0.,   0.,   0., 150.,   0.,   0.,  50., 350.,   0.,   0.,\n",
       "         0.,   0.,   0.,   0., 100.,   0.,   0.,   0.,   0.,   0.,   0.,\n",
       "         0.,   0.,   0.,   0., 650.,   0., 250.,   0.,   0.,   0.,   0.,\n",
       "         0., 450.,   0.,   0.,  50.,   0.,   0.,   0.,   0.,   0.,   0.,\n",
       "         0., 100., 600.,  50.,   0., 250.,   0.,   0.,   0., 350.,   0.,\n",
       "         0.,   0.,   0.,   0.,   0.,   0.,   0.,   0.,   0.,  50., 350.,\n",
       "       150., 450.,   0.,   0.,   0.,   0.,   0.,   0.,   0., 100.,   0.,\n",
       "         0.,   0.,   0.,  50.,   0.,   0.,   0.,   0.,   0.,   0.,   0.,\n",
       "         0.,  50.,   0.,   0.,   0.,   0.,  50.,   0.,   0.,   0.,   0.,\n",
       "         0.,   0.,   0.,   0., 550.,   0.,   0.,   0.,   0.,   0., 300.,\n",
       "         0.,   0.,   0.,   0.,   0.,   0.,   0.,   0., 250.,   0.,   0.,\n",
       "       100.,   0.,   0.,   0.,   0.,   0.,   0., 450., 400.,   0.,   0.,\n",
       "         0.,   0.,   0.,   0.,   0.,   0.,   0., 200.,   0.,   0.,   0.,\n",
       "         0.,   0., 450.,   0.,   0., 100.,   0.,   0.,   0.,   0.,   0.,\n",
       "       150.,   0.,   0.,   0.,   0.,   0.,   0.,   0., 450.,   0.,   0.,\n",
       "         0., 650., 300., 150., 250.,   0.,   0.,   0.,   0.,   0., 300.,\n",
       "         0.,   0.,   0.,   0.,   0.,   0.,   0.,   0.,   0.,   0.,   0.,\n",
       "         0.,   0.,   0.,   0.,   0.,   0., 350.,   0.,   0.,   0., 300.,\n",
       "         0.,   0., 350.,   0., 150.,   0.,   0., 450.,   0., 100., 450.,\n",
       "       450.,   0.,   0.,   0.,   0.,   0.,   0., 450., 150.,   0.,   0.,\n",
       "         0.,   0.,   0.,   0.,   0.,   0.,   0., 450.,   0., 750.,   0.,\n",
       "         0., 300.,   0.,   0.,   0.,   0.,   0., 400.,   0.,   0.,   0.,\n",
       "         0., 100.,   0.,   0., 350.,   0.,   0., 100.,   0.,   0.,   0.,\n",
       "         0.,   0.,   0.,   0., 100.,   0.,   0.,   0.,   0.,   0.,   0.,\n",
       "         0., 200.,   0.,   0.,   0.,   0.,   0.,   0.,   0.,   0.,   0.,\n",
       "         0.,   0.,   0.,   0.,   0.,   0.,   0.,   0.,   0., 200.,   0.,\n",
       "       300.,   0.,   0., 200.,   0.,   0., 300.,   0.,   0.,   0.,   0.,\n",
       "         0.,   0.,   0.,   0., 350.,   0.,   0.,   0.,   0., 200.,   0.,\n",
       "       650.,   0., 200., 350.,   0.,   0.,   0.,   0.,   0.,   0.,   0.,\n",
       "         0.,   0.,   0., 100.,   0.,   0., 100.,   0.,   0.,   0., 450.,\n",
       "         0.,   0.,   0., 250.,   0.,   0.,   0., 450.,   0.,   0.,   0.,\n",
       "         0.,   0.,   0.,   0., 200.,   0.,   0.,   0., 650.,   0.,   0.,\n",
       "         0.,  50.,   0., 200.,   0.,   0.,   0.,   0.,   0.,   0.,   0.,\n",
       "         0., 300.,   0., 300.,   0., 100.,   0.,   0.,   0.,   0., 300.,\n",
       "         0.,   0.,   0.,   0.,   0.,   0.,   0.,   0.,   0.,   0.,   0.,\n",
       "       450.,   0., 200.,   0.,   0.,   0.,   0.,   0.,   0.,   0.,   0.,\n",
       "         0.,   0.,   0.,   0., 150.,   0.,   0.,   0.,   0., 200., 350.,\n",
       "       150., 200.,   0.,   0.,   0.,   0.,   0.,   0.,   0.,   0.,   0.,\n",
       "         0.,   0.,   0.,   0.,   0.,   0.,   0., 100.,   0.,   0., 400.,\n",
       "         0.,   0.,   0.,   0.,   0.,   0.,   0., 450.,   0.,   0.,   0.,\n",
       "         0.,   0.,   0.,   0.,   0., 350.,   0., 250., 350., 350.,   0.,\n",
       "         0.,   0.,   0.,   0., 250.,   0.,   0.,   0.,   0., 300.,   0.,\n",
       "         0.,   0.,   0.,   0.,  50.,   0.,   0., 250.,   0., 300.,   0.,\n",
       "         0.,   0.,   0.,   0.,   0.,   0.,   0.,   0.,  50.,   0.,   0.,\n",
       "         0.,   0., 100.,   0.,   0.,   0., 400.,   0.,   0.,   0.,   0.,\n",
       "       100.,   0.,   0., 400., 450.,   0.,   0.,   0.,   0.,   0.,   0.,\n",
       "       250.,   0., 250.,   0.,   0.,   0.,   0.,   0.,   0.,   0.,   0.,\n",
       "       500.,   0.,   0.,   0.,   0.,   0., 150.,   0., 350., 400., 200.,\n",
       "         0., 200.,   0.,   0.,   0.,   0.,   0., 700., 450.,   0.,   0.,\n",
       "         0.,   0.,   0., 450.,   0.,   0.,   0.,   0.,   0.,   0.,   0.,\n",
       "         0.,   0.,   0., 100.,   0.,   0.,   0.,   0.,   0.,   0.,   0.,\n",
       "         0.,   0.,   0.,   0.,   0., 100.,   0., 450.,   0.,   0., 200.,\n",
       "         0.,   0.,   0.,   0.,   0.,   0.,   0.,   0.,   0.,   0.,   0.,\n",
       "         0.,   0., 500.,   0.,   0.,   0.,   0.,   0.,   0., 350.,   0.,\n",
       "         0.,   0., 350.,   0.,   0.,   0.,   0.,   0.,   0.,   0.,   0.,\n",
       "         0.,  50., 600.,   0.,   0.,   0.,   0.,   0.,   0.,   0.,   0.,\n",
       "         0.,   0., 250.,   0.,   0.,   0.,   0., 150.,   0., 200., 100.,\n",
       "       450.,   0., 150.,   0., 400.,   0.,   0., 450.,   0.,   0.,   0.,\n",
       "         0.,   0.,   0.,   0., 200., 650.,   0., 250.,   0.,   0.,   0.,\n",
       "         0.,   0.,   0.,   0.,   0.,   0.,   0.,   0.,   0.,  50.,   0.,\n",
       "         0.,   0.,   0.,   0.,   0.,   0.,   0.,   0.,   0., 300.,   0.,\n",
       "         0., 100.,   0.,   0.,   0.,   0.,   0.,   0.,   0., 100.,   0.,\n",
       "         0.,   0.,   0., 250.,   0.,  50., 100.,   0.,   0., 400.,   0.,\n",
       "         0.,   0.,   0.,   0.,   0.,   0., 350.,   0.,   0.,   0.,   0.,\n",
       "         0.,   0.,   0., 150., 150., 150.,   0.,   0.,   0.,   0.,   0.,\n",
       "         0.,   0.,   0.,   0.,   0.,   0.,   0.,   0.,   0.,   0.])"
      ]
     },
     "execution_count": 244,
     "metadata": {},
     "output_type": "execute_result"
    }
   ],
   "source": [
    "copy4"
   ]
  },
  {
   "cell_type": "markdown",
   "metadata": {},
   "source": [
    "We are simulating 10 signals, from 0 sigmas to 30 sigmas. They are spaced 50 (raw value) apart."
   ]
  },
  {
   "cell_type": "code",
   "execution_count": 297,
   "metadata": {},
   "outputs": [
    {
     "data": {
      "image/png": "[encoded data removed]",
      "text/plain": [
       "<Figure size 432x288 with 2 Axes>"
      ]
     },
     "metadata": {
      "needs_background": "light"
     },
     "output_type": "display_data"
    }
   ],
   "source": [
    "fig, ax = plt.subplots(2,1)\n",
    "ax[0].hist(copy2,density=True,bins=100)\n",
    "ax[1].hist(copy4,density=True,bins=100,range=[1,copy4.max()])\n",
    "plt.suptitle(\"injected signal v observed signal\")\n",
    "plt.show()"
   ]
  },
  {
   "cell_type": "code",
   "execution_count": 298,
   "metadata": {},
   "outputs": [
    {
     "data": {
      "image/png": "[encoded data removed]",
      "text/plain": [
       "<Figure size 432x288 with 1 Axes>"
      ]
     },
     "metadata": {
      "needs_background": "light"
     },
     "output_type": "display_data"
    }
   ],
   "source": [
    "fig, ax = plt.subplots(1,1)\n",
    "\n",
    "ax.hist2d(copy2,copy4,bins=20, range=[[0,copy2.max()],[1,1000]])\n",
    "plt.show()\n",
    "#background line on left (background dist) w faint diagonal\n",
    "#1-5 signal strength example\n",
    "#a few different signal arrays\n",
    "#add 190 not 90. So its biased cuz we add 190 and we get 290."
   ]
  },
  {
   "cell_type": "code",
   "execution_count": null,
   "metadata": {},
   "outputs": [],
   "source": []
  }
 ],
 "metadata": {
  "kernelspec": {
   "display_name": "Python 3",
   "language": "python",
   "name": "python3"
  },
  "language_info": {
   "codemirror_mode": {
    "name": "ipython",
    "version": 3
   },
   "file_extension": ".py",
   "mimetype": "text/x-python",
   "name": "python",
   "nbconvert_exporter": "python",
   "pygments_lexer": "ipython3",
   "version": "3.7.3"
  }
 },
 "nbformat": 4,
 "nbformat_minor": 4
}
