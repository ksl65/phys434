{
 "cells": [
  {
   "cell_type": "code",
   "execution_count": 1,
   "metadata": {},
   "outputs": [],
   "source": [
    "# Lab 3 - Kun Lee, partner: Lexie Peterson\n",
    "#Setup\n",
    "%matplotlib inline\n",
    "import numpy as np\n",
    "import matplotlib\n",
    "import matplotlib.pyplot as plt\n",
    "import scipy\n",
    "import scipy.signal\n",
    "from scipy import stats\n",
    "\n",
    "#this sets the size of the plot to something useful\n",
    "plt.rcParams[\"figure.figsize\"] = (20,15)\n",
    "\n",
    "d = stats.norm.rvs(loc = 5., scale = 0.01, size = 100000)\n",
    "\n",
    "fig, ax = plt.subplots(1, 1)\n",
    "plt.xlim(0,10)\n",
    "\n",
    "y = np.linspace(0,9,10)\n",
    "y2 = np.linspace(0,18,19)\n",
    "\n",
    "base = scipy.stats.poisson.pmf(y,2)\n",
    "base2 = scipy.signal.convolve(base,base)\n",
    "ax.bar(y,base)\n",
    "plt.show()"
   ]
  },
  {
   "cell_type": "markdown",
   "metadata": {},
   "source": [
    "Start by simulating 100k 'good' data points assuming Gaussian fluctations, and because we are playing god adding the following 'bad' datapoints: {10., 10.3, 2.1, 0., 0., 15.6, 22.3, 12.7}"
   ]
  },
  {
   "cell_type": "code",
   "execution_count": 20,
   "metadata": {},
   "outputs": [
    {
     "data": {
      "image/png": "[encoded data removed]",
      "text/plain": [
       "<Figure size 432x288 with 1 Axes>"
      ]
     },
     "metadata": {
      "needs_background": "light"
     },
     "output_type": "display_data"
    }
   ],
   "source": [
    "good_data = scipy.stats.norm.rvs(loc=12,scale=0.4,size=100000)\n",
    "bad_data = [10.,10.3,2.1,0.,0.,15.6,22.3,12.7]\n",
    "data = np.append(good_data, bad_data)\n",
    "y = np.linspace(0,100000,100000)\n",
    "fig, ax = plt.subplots(1, 1)\n",
    "#plt.xlim(0,100000)\n",
    "ax.hist(data, bins=1001,density=True)\n",
    "ax.set_title(\"Background distribution\")\n",
    "ax.set_xlabel(\"Temperature value\")\n",
    "ax.set_ylabel(\"Frequency\")\n",
    "for point in bad_data:\n",
    "    ax.plot(point,0.1,'mo')\n",
    "plt.show()"
   ]
  },
  {
   "cell_type": "code",
   "execution_count": 19,
   "metadata": {},
   "outputs": [
    {
     "data": {
      "image/png": "[encoded data removed]",
      "text/plain": [
       "<Figure size 432x288 with 1 Axes>"
      ]
     },
     "metadata": {
      "needs_background": "light"
     },
     "output_type": "display_data"
    }
   ],
   "source": [
    "fig, ax = plt.subplots(1, 1)\n",
    "#plt.xlim(0,100000)\n",
    "ax.hist(data, bins=1001,density=True)\n",
    "ax.set_title(\"Log of Background distribution\")\n",
    "ax.set_xlabel(\"Temperature value\")\n",
    "ax.set_ylabel(\"Log of Frequency\")\n",
    "ax.set_yscale(\"log\")\n",
    "for point in bad_data:\n",
    "    ax.plot(point,0.1,'mo')\n",
    "plt.show()"
   ]
  },
  {
   "cell_type": "markdown",
   "metadata": {},
   "source": [
    "State the statistical question in words. Be very clear, and describe why you have chosen this statistical question:\n",
    "\n",
    "The question is how can we pick a test that will allow us to distinguish between good data and bad data? \n",
    "\n",
    "Restate your question in math. Be very clear:\n",
    "\n",
    "Given that the good data follows a Gaussian distribution, what sigma level can we choose such that points with a z-score greater than that level gets rejected? Can we choose a level such that all known bad points are rejected but all known good points are not? Given that 99.7 of values in a normally distributed set of data falls within 3 standard deviations, I think rejecting points more than 5 standard deviations away from the mean is a good start. But we can do better..."
   ]
  },
  {
   "cell_type": "markdown",
   "metadata": {},
   "source": [
    "Since we know we have 8 bad and 100k good data points, that's a probability of 8/100008 of getting a bad data point. What sigma value is that (i.e. what x-value does that correspond to?)"
   ]
  },
  {
   "cell_type": "code",
   "execution_count": 21,
   "metadata": {},
   "outputs": [
    {
     "data": {
      "text/plain": [
       "3.7750318807261567"
      ]
     },
     "execution_count": 21,
     "metadata": {},
     "output_type": "execute_result"
    }
   ],
   "source": [
    "p = 8/100008\n",
    "scipy.stats.norm.isf(p)"
   ]
  },
  {
   "cell_type": "markdown",
   "metadata": {},
   "source": [
    "The interpretation of this is: if we integrate from right to left on a standard normal distribution, when we reach an area under the curve of 3.775, we are at x=3.77. So the sigma value is 3.77 since the SND had a standard deviation of 1. Now let's apply this to our nonstandard normal distribution."
   ]
  },
  {
   "cell_type": "code",
   "execution_count": 22,
   "metadata": {},
   "outputs": [
    {
     "data": {
      "text/plain": [
       "13.510012752290463"
      ]
     },
     "execution_count": 22,
     "metadata": {},
     "output_type": "execute_result"
    }
   ],
   "source": [
    "scipy.stats.norm.isf(p,loc=12,scale=0.4)"
   ]
  },
  {
   "cell_type": "markdown",
   "metadata": {},
   "source": [
    "Values greater than 13.51 and less than 10.49 are outside of our 3.77 sigma significance level (i.e. 1-cdf(13.51) is p = 8/100008)."
   ]
  },
  {
   "cell_type": "code",
   "execution_count": 32,
   "metadata": {},
   "outputs": [
    {
     "data": {
      "text/plain": [
       "10.489987247709537"
      ]
     },
     "execution_count": 32,
     "metadata": {},
     "output_type": "execute_result"
    }
   ],
   "source": [
    "scipy.stats.norm.ppf(p,loc=12,scale=0.4)"
   ]
  },
  {
   "cell_type": "markdown",
   "metadata": {},
   "source": [
    "So our question becomes: If we take points with a sigma value greater than 3.77 to be false, how accurately can we remove actual bad data?\n",
    "\n",
    "Apply your statistical test and construct a truth table."
   ]
  },
  {
   "cell_type": "code",
   "execution_count": 38,
   "metadata": {},
   "outputs": [
    {
     "name": "stdout",
     "output_type": "stream",
     "text": [
      "            true    false\n",
      "--------  ------  -------\n",
      "Positive   99986        1\n",
      "Negative      14        7\n"
     ]
    }
   ],
   "source": [
    "truepos = 0\n",
    "trueneg = 0\n",
    "falsepos = 0\n",
    "falseneg = 0\n",
    "high = scipy.stats.norm.isf(p,loc=12,scale=0.4)\n",
    "low = scipy.stats.norm.ppf(p,loc=12,scale=0.4)\n",
    "for point in good_data:\n",
    "    if point > high or point < low:\n",
    "        trueneg = trueneg + 1\n",
    "    else:\n",
    "        truepos = truepos + 1\n",
    "\n",
    "for point in bad_data:\n",
    "    if point > high or point < low:\n",
    "        falseneg = falseneg + 1\n",
    "    else:\n",
    "        falsepos = falsepos + 1\n",
    "\n",
    "from tabulate import tabulate as tb\n",
    "print(tb([[\"Positive\",truepos,falsepos],[\"Negative\", trueneg,falseneg]],headers=[\"true\",\"false\"]))"
   ]
  },
  {
   "cell_type": "markdown",
   "metadata": {},
   "source": [
    "B) How does the number of omissions, where you threw out good data, depend on the statistical threshold you chose and is it a predictable quantity?\n",
    "\n",
    "Yes, it depends on the sigma we choose. If we choose a higher sigma we throw out less good data but accept more bad data and vice versa. Let's explore this by running the test again with a higher sigma of 5 sigma:"
   ]
  },
  {
   "cell_type": "code",
   "execution_count": 39,
   "metadata": {},
   "outputs": [
    {
     "name": "stdout",
     "output_type": "stream",
     "text": [
      "            true    false\n",
      "--------  ------  -------\n",
      "Positive  100000        3\n",
      "Negative       0        5\n"
     ]
    }
   ],
   "source": [
    "truepos = 0\n",
    "trueneg = 0\n",
    "falsepos = 0\n",
    "falseneg = 0\n",
    "p = scipy.stats.norm.sf(5)\n",
    "high = scipy.stats.norm.isf(p,loc=12,scale=0.4)\n",
    "low = scipy.stats.norm.ppf(p,loc=12,scale=0.4)\n",
    "for point in good_data:\n",
    "    if point > high or point < low:\n",
    "        trueneg = trueneg + 1\n",
    "    else:\n",
    "        truepos = truepos + 1\n",
    "\n",
    "for point in bad_data:\n",
    "    if point > high or point < low:\n",
    "        falseneg = falseneg + 1\n",
    "    else:\n",
    "        falsepos = falsepos + 1\n",
    "\n",
    "from tabulate import tabulate as tb\n",
    "print(tb([[\"Positive\",truepos,falsepos],[\"Negative\", trueneg,falseneg]],headers=[\"true\",\"false\"]))"
   ]
  },
  {
   "cell_type": "markdown",
   "metadata": {},
   "source": [
    "When we do it with a 5 sigma level we don't commit any mistakes of omission (throwing out good data) but we do have more false positives (mistakes of commision, bad data getting in). Can we predict how much bad data we throw out? Because the good data is normally distributed, we can calculate how much good data we expect to have an x-value greater than our threshold (the sigma level we chose). I.e. p(x > threshold) * number of data points = number of mistakes of omission."
   ]
  },
  {
   "cell_type": "code",
   "execution_count": 50,
   "metadata": {},
   "outputs": [
    {
     "data": {
      "text/plain": [
       "8.162377370268604"
      ]
     },
     "execution_count": 50,
     "metadata": {},
     "output_type": "execute_result"
    }
   ],
   "source": [
    "scipy.stats.norm.sf(3.77) * 100000\n",
    "#scipy.stats.norm.sf(5) * 100000"
   ]
  },
  {
   "cell_type": "markdown",
   "metadata": {},
   "source": [
    "C) Are there mistakes of commission (bad data getting in)? If yes, are they avoidable and how do they depend on your statistical threshold?\n",
    "\n",
    "Yes. With our 3.77 sigma level, we have 1 mistake of commision. If we reduce our sigma level, we can probably reduce that number since we're essentially being more strict and only accepting points closer to the mean. Let's try this with 2 sigma:"
   ]
  },
  {
   "cell_type": "code",
   "execution_count": 42,
   "metadata": {},
   "outputs": [
    {
     "name": "stdout",
     "output_type": "stream",
     "text": [
      "            true    false\n",
      "--------  ------  -------\n",
      "Positive   95568        1\n",
      "Negative    4432        7\n"
     ]
    }
   ],
   "source": [
    "truepos = 0\n",
    "trueneg = 0\n",
    "falsepos = 0\n",
    "falseneg = 0\n",
    "p = scipy.stats.norm.sf(2)\n",
    "high = scipy.stats.norm.isf(p,loc=12,scale=0.4)\n",
    "low = scipy.stats.norm.ppf(p,loc=12,scale=0.4)\n",
    "for point in good_data:\n",
    "    if point > high or point < low:\n",
    "        trueneg = trueneg + 1\n",
    "    else:\n",
    "        truepos = truepos + 1\n",
    "\n",
    "for point in bad_data:\n",
    "    if point > high or point < low:\n",
    "        falseneg = falseneg + 1\n",
    "    else:\n",
    "        falsepos = falsepos + 1\n",
    "\n",
    "from tabulate import tabulate as tb\n",
    "print(tb([[\"Positive\",truepos,falsepos],[\"Negative\", trueneg,falseneg]],headers=[\"true\",\"false\"]))"
   ]
  },
  {
   "cell_type": "markdown",
   "metadata": {},
   "source": [
    "We didn't manage to avoid that mistake, it seems. Looking at the set of data points, it appears that there's a bad data point of 12.7, which is less than 2 standard deviations away. Running the test again with sigma = 1 would probably fix this."
   ]
  },
  {
   "cell_type": "code",
   "execution_count": 43,
   "metadata": {},
   "outputs": [
    {
     "data": {
      "text/plain": [
       "2.8665157187919333e-07"
      ]
     },
     "execution_count": 43,
     "metadata": {},
     "output_type": "execute_result"
    }
   ],
   "source": [
    "scipy.stats.norm.sf(5) # SND 5 sigma probability"
   ]
  },
  {
   "cell_type": "code",
   "execution_count": 45,
   "metadata": {},
   "outputs": [
    {
     "data": {
      "text/plain": [
       "2.857142857142857e-07"
      ]
     },
     "execution_count": 45,
     "metadata": {},
     "output_type": "execute_result"
    }
   ],
   "source": [
    "1/3500000 #1 in 3.5 million"
   ]
  },
  {
   "cell_type": "code",
   "execution_count": 46,
   "metadata": {},
   "outputs": [
    {
     "data": {
      "text/plain": [
       "2.8665157187919333e-07"
      ]
     },
     "execution_count": 46,
     "metadata": {},
     "output_type": "execute_result"
    }
   ],
   "source": [
    "# mean + 5(0.4)\n",
    "scipy.stats.norm.sf(14,loc=12,scale=0.4)"
   ]
  },
  {
   "cell_type": "code",
   "execution_count": 47,
   "metadata": {},
   "outputs": [
    {
     "data": {
      "text/plain": [
       "2.8665157187919333e-07"
      ]
     },
     "execution_count": 47,
     "metadata": {},
     "output_type": "execute_result"
    }
   ],
   "source": [
    "# mean + 5(2)\n",
    "scipy.stats.norm.sf(10,scale=2)"
   ]
  },
  {
   "cell_type": "markdown",
   "metadata": {},
   "source": [
    "The examples above illustrate why we chose 12 plus minus 2 for our 5 sigma example."
   ]
  },
  {
   "cell_type": "markdown",
   "metadata": {},
   "source": [
    "Question 2:\n",
    "\n",
    "The question in words: If we have a 2d Gaussian with a 1 arcsecond RMS, what is the distribution associated with the distance traveled from the center?\n",
    "\n",
    "The question in math: What distribution characterizes a distribution that is formed when we have 2 standard normal distributions representing the X and Y axes and the distribution is made up of the length sqrt(x^2 + y^2)?\n",
    "\n",
    "The answer from Wikipedia:\n",
    "A Rayleigh distribution is often observed when the overall magnitude of a vector is related to its directional components. One example where the Rayleigh distribution naturally arises is when wind velocity is analyzed in two dimensions. Assuming that each component is uncorrelated, normally distributed with equal variance, and zero mean, then the overall wind speed (vector magnitude) will be characterized by a Rayleigh distribution.\n",
    "R ~ Rayleigh(sigma) is Rayleigh distributed if X ~ N(0,sigma squared) and Y ~ N(0,sigma squared) are independent normal random variables.[6] (This gives motivation to the use of the symbol \"sigma\" in the above parametrization of the Rayleigh density.)\n",
    "\n",
    "What is the 5 sigma distance in arcseconds?"
   ]
  },
  {
   "cell_type": "code",
   "execution_count": 12,
   "metadata": {},
   "outputs": [
    {
     "data": {
      "text/plain": [
       "5.489079776062419"
      ]
     },
     "execution_count": 12,
     "metadata": {},
     "output_type": "execute_result"
    }
   ],
   "source": [
    "# sigma squared = 1 so sigma = 1.\n",
    "import scipy.stats\n",
    "p = scipy.stats.norm.sf(5) # 1 in 3.5 million\n",
    "scipy.stats.rayleigh.isf(p)"
   ]
  },
  {
   "cell_type": "markdown",
   "metadata": {},
   "source": [
    "Problem 3:\n",
    "    \n",
    "The question in words: What is the chance of seeing 6800 rays or less in 15 days given the background rate of rays in the question?\n",
    "\n",
    "Translate to math: From the question, \"Assume a moon sized patch on the sky we normally have a cosmic ray rate of 1 cosmic ray per minute (arrivals are random in time).\". This suggests a Poisson distribution since we have a background rate and cosmic rays are independent events. The question is: with the background Poisson distribution, what is the probability of seeing 6800 events or less, in terms of a \"sigma\" level which is that probability expressed in terms of standard deviations on the standard normal distribution?\n",
    "\n",
    "Our background distribution: 15 days * 8 hours/day * 1 ray/min = 7200 rays. "
   ]
  },
  {
   "cell_type": "code",
   "execution_count": 5,
   "metadata": {},
   "outputs": [
    {
     "data": {
      "text/plain": [
       "-4.750747965777188"
      ]
     },
     "execution_count": 5,
     "metadata": {},
     "output_type": "execute_result"
    }
   ],
   "source": [
    "scipy.stats.norm.ppf(scipy.stats.poisson.cdf(6800,7200))"
   ]
  },
  {
   "cell_type": "markdown",
   "metadata": {},
   "source": [
    "Sigma of 4.5."
   ]
  },
  {
   "cell_type": "markdown",
   "metadata": {},
   "source": [
    "There are some unique aspects to this problem. Make sure you explore them in your explanation.\n",
    "The poisson distribution assumes that the rate of the events are constant and independent. I'm guessing that the unique aspect is that this may not be an accurate way to model the ray distribution. For example, because the moon is in different positions throughout the night, the rate at which it blocks the rays might change."
   ]
  },
  {
   "cell_type": "code",
   "execution_count": null,
   "metadata": {},
   "outputs": [],
   "source": []
  }
 ],
 "metadata": {
  "kernelspec": {
   "display_name": "Python 3",
   "language": "python",
   "name": "python3"
  },
  "language_info": {
   "codemirror_mode": {
    "name": "ipython",
    "version": 3
   },
   "file_extension": ".py",
   "mimetype": "text/x-python",
   "name": "python",
   "nbconvert_exporter": "python",
   "pygments_lexer": "ipython3",
   "version": "3.7.3"
  }
 },
 "nbformat": 4,
 "nbformat_minor": 4
}
